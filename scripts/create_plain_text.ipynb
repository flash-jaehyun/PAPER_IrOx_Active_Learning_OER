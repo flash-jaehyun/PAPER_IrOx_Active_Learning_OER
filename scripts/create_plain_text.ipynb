{
 "cells": [
  {
   "cell_type": "markdown",
   "metadata": {},
   "source": [
    "# Import Modules"
   ]
  },
  {
   "cell_type": "code",
   "execution_count": 1,
   "metadata": {},
   "outputs": [
    {
     "name": "stdout",
     "output_type": "stream",
     "text": [
      "/mnt/f/Dropbox/01_norskov/00_git_repos/PAPER_IrOx_Active_Learning_OER/scripts\n"
     ]
    }
   ],
   "source": [
    "import os\n",
    "print(os.getcwd())\n",
    "import sys"
   ]
  },
  {
   "cell_type": "markdown",
   "metadata": {},
   "source": [
    "# Script Inputs"
   ]
  },
  {
   "cell_type": "code",
   "execution_count": 2,
   "metadata": {},
   "outputs": [],
   "source": [
    "# root_dir = \"./03_sections\"\n",
    "# root_dir = \"temp_paper_files\"\n",
    "\n",
    "# root_dir = \".\"\n",
    "root_dir = \"..\"\n",
    "\n",
    "\n",
    "# file_to_process = \"00_main_manuscript.tex\"\n",
    "# file_to_process = sys.argv[1]\n",
    "\n",
    "# file_to_process = \"03_sections/00_abstract.tex\"\n",
    "file_to_process = \"scripts/convert_this_to_plain.tex\""
   ]
  },
  {
   "cell_type": "markdown",
   "metadata": {},
   "source": [
    "# Methods"
   ]
  },
  {
   "cell_type": "code",
   "execution_count": 3,
   "metadata": {},
   "outputs": [],
   "source": [
    "def read_text_file(file_path):\n",
    "    with open(file_path, \"r\") as fle:\n",
    "        file_lines_list = fle.read().splitlines()\n",
    "\n",
    "    return(file_lines_list)"
   ]
  },
  {
   "cell_type": "code",
   "execution_count": 4,
   "metadata": {},
   "outputs": [],
   "source": [
    "replace_dict = {\n",
    "    \"\\\\noindent \": \"\",\n",
    "\n",
    "    \"$\\\\sigma$\": \"σ\",\n",
    "\n",
    "    \"\\\\DHf\": \"ΔH<sub>f</sub>\",\n",
    "    \"\\\\DGf\": \"ΔG<sub>f</sub>\",\n",
    "\n",
    "    \"\\\\ABtwo\": \"AB<sub>2</sub>\",\n",
    "    \"\\\\ABthree\": \"AB<sub>3</sub>\",\n",
    "\n",
    "    \"\\\\IrOtwo\": \"IrO<sub>2</sub>\",\n",
    "    \"\\\\IrOthree\": \"IrO<sub>3</sub>\",\n",
    "    \"\\\\IrOx\": \"IrO<sub>x</sub>\",\n",
    "    \"\\\\rIrOtwo\": \"R-IrO<sub>2</sub>\",\n",
    "\n",
    "    # \\rIrOthree and \\bIrOthree\n",
    "\n",
    "    \"\\\\bIrOthree\": \"β-IrO<sub>3</sub>\",\n",
    "    \"\\\\rIrOthree\": \"R-IrO<sub>3</sub>\",\n",
    "\n",
    "    \"\\\\IrOfourm\": \"IrO<sub>4</sub><sup>-</sup>\",\n",
    "\n",
    "    \"\\\\ce{Ir}-\\\\ce{H2O}\": \"Ir-H<sub>2</sub>O\",\n",
    "    \n",
    "    \"\\\\DGOmOH\": \"ΔG<sub>O</sub>-ΔG<sub>OH</sub>\",\n",
    "    \"SrIrO\\\\textsubscript{3}\": \"SrIrO<sub>3</sub>\",\n",
    "\n",
    "    \"$N_{discovered}$\": \"N<sub>discovered</sub>\",\n",
    "\n",
    "    \"\\\\aIrOthree\": \"α-IrO<sub>3</sub>\",\n",
    "    \"\\\\ce{FeF_{3}}\": \"FeF<sub>3</sub>\",\n",
    "    \"H$_2$O\": \"H<sub>2</sub>O\",\n",
    "\n",
    "    \"$U_{SHE}$\": \"U<sub>SHE</sub>\",\n",
    "\n",
    "    \"\\\\VRHE\": \"V<sub>RHE</sub>\",\n",
    "\n",
    "    \"\\\\num\": \"\",\n",
    "    \"{\": \"\",\n",
    "    \"}\": \"\",\n",
    "\n",
    "    \"\\\\SI[mode=text]10\\\\mA\\\\per\\\\cm\\\\squared\": \"10 mA cm<sup>-2</sup>\",\n",
    "    \n",
    "    \"``FloresActive2020''\": \"<b>FloresActive2020</b>\",\n",
    "\n",
    "    # #####################################################\n",
    "    # Citations ###########################################\n",
    "    \"~\\\\citeupload_MPContribs\": \"[35]\",\n",
    "    \"~\\\\citeupload_CatHub\": \"[59]\",\n",
    "    \"~\\\\citeWinther2019\": \"[60]\",\n",
    "    \"~\\\\citeKuo2017\": \"[58]\",\n",
    "    \"~\\\\citeSeitz2016\": \"[25]\",\n",
    "\n",
    "    # #####################################################\n",
    "    # Figure References ###################################\n",
    "    \"Figure \\\\reftable:amorph_limit\": \"Figure S2\",\n",
    "    \n",
    "    \"Figure~\\ref{fig:bulk_pourbaix_wo_alpha}\": \"Figure S4\",\n",
    "    \n",
    "    \"Figure~\\\\reffig:bulk_pourbaix_wo_alpha\": \"Figure S4\",\n",
    "\n",
    "    \"Table \\\\reftable:bulk_pourb\": \"Table S3\",\n",
    "    }"
   ]
  },
  {
   "cell_type": "code",
   "execution_count": 5,
   "metadata": {},
   "outputs": [],
   "source": [
    "file_path = os.path.join(root_dir, file_to_process)\n",
    "file_lines_list = read_text_file(file_path)\n",
    "\n",
    "# #########################################################\n",
    "in_SI_section = False\n",
    "\n",
    "# composite_tex_lines_list = []\n",
    "new_lines_list = []\n",
    "for line_i in file_lines_list:\n",
    "    tmp = 42\n",
    "\n",
    "    if len(line_i) == 0:\n",
    "        # pass\n",
    "        continue\n",
    "    if line_i[0] == \"%\":\n",
    "        continue\n",
    "\n",
    "    for key, val in replace_dict.items():\n",
    "        line_i = line_i.replace(key, val)\n",
    "\n",
    "\n",
    "    new_lines_list.append(line_i)"
   ]
  },
  {
   "cell_type": "code",
   "execution_count": 6,
   "metadata": {},
   "outputs": [
    {
     "data": {
      "text/plain": [
       "<function str.replace>"
      ]
     },
     "execution_count": 6,
     "metadata": {},
     "output_type": "execute_result"
    }
   ],
   "source": [
    "# line_i\n",
    "# line_i.replace(\"$N_discovered$\", \"TEMP\")\n",
    "\n",
    "line_i.replace"
   ]
  },
  {
   "cell_type": "code",
   "execution_count": 7,
   "metadata": {},
   "outputs": [
    {
     "data": {
      "text/plain": [
       "'\\\\noindent '"
      ]
     },
     "execution_count": 7,
     "metadata": {},
     "output_type": "execute_result"
    }
   ],
   "source": [
    "list(replace_dict.keys())[0]"
   ]
  },
  {
   "cell_type": "code",
   "execution_count": 8,
   "metadata": {},
   "outputs": [
    {
     "name": "stdout",
     "output_type": "stream",
     "text": [
      "Summary of OER results for the following four bulk structures of IrO<sub>x</sub>: R-IrO<sub>2</sub> (green), α-IrO<sub>3</sub> (purple), R-IrO<sub>3</sub> (orange), and β-IrO<sub>3</sub> (pink). (a) Surface energy Pourbaix diagrams for each structure, with the surface energy of various facets and coverages shown as a function of applied potential (V<sub>RHE</sub>). The bulk Pourbaix diagram's bounds of stability at pH 0 are superimposed as horizontal bars at the bottom of each subplot. The pseudo-stability regimes for the metastable β-IrO<sub>3</sub> and R-IrO<sub>3</sub> are indicated by dashed vertical lines. (b) OER activity volcano for IrO<sub>x</sub> systems considered utilizing the ΔG<sub>O</sub>-ΔG<sub>OH</sub> descriptor. The horizontal lines correspond to recent experimental OER limiting potentials for R-IrO<sub>2</sub> (110)[58] and SrIrO<sub>3</sub>[25], at 10 mA cm<sup>-2</sup> (extrapolated values). (c) Corresponding structural models for selected OER surfaces at one mono-layer O* coverage used for calculation of the overpotentials. Color legend: oxygen (red), purple (iridium), coordination motif (white). Computational cell is displayed by black lines. All OER slab models and corresponding DFT energies are freely available under the <b>FloresActive2020</b>[59] dataset at Catalysis-hub.org[60].\n"
     ]
    }
   ],
   "source": [
    "# line_i\n",
    "# file_lines_list\n",
    "# new_lines_list\n",
    "\n",
    "print(\" \".join(new_lines_list))"
   ]
  },
  {
   "cell_type": "code",
   "execution_count": 9,
   "metadata": {},
   "outputs": [
    {
     "data": {
      "text/plain": [
       "['Summary of OER results for the following four bulk structures of IrO<sub>x</sub>: R-IrO<sub>2</sub> (green), α-IrO<sub>3</sub> (purple), R-IrO<sub>3</sub> (orange), and β-IrO<sub>3</sub> (pink).',\n",
       " '(a) Surface energy Pourbaix diagrams for each structure, with the surface energy of various facets and coverages shown as a function of applied potential (V<sub>RHE</sub>).',\n",
       " \"The bulk Pourbaix diagram's bounds of stability at pH 0 are superimposed as horizontal bars at the bottom of each subplot.\",\n",
       " 'The pseudo-stability regimes for the metastable β-IrO<sub>3</sub> and R-IrO<sub>3</sub> are indicated by dashed vertical lines.',\n",
       " '(b) OER activity volcano for IrO<sub>x</sub> systems considered utilizing the ΔG<sub>O</sub>-ΔG<sub>OH</sub> descriptor.',\n",
       " 'The horizontal lines correspond to recent experimental OER limiting potentials for R-IrO<sub>2</sub> (110)[58] and SrIrO<sub>3</sub>[25],',\n",
       " 'at 10 mA cm<sup>-2</sup> (extrapolated values).',\n",
       " '(c) Corresponding structural models for selected OER surfaces at one mono-layer O* coverage used for calculation of the overpotentials.',\n",
       " 'Color legend: oxygen (red), purple (iridium), coordination motif (white).',\n",
       " 'Computational cell is displayed by black lines.',\n",
       " 'All OER slab models and corresponding DFT energies are freely available under the <b>FloresActive2020</b>[59] dataset at Catalysis-hub.org[60].']"
      ]
     },
     "execution_count": 9,
     "metadata": {},
     "output_type": "execute_result"
    }
   ],
   "source": [
    "new_lines_list"
   ]
  },
  {
   "cell_type": "raw",
   "metadata": {},
   "source": [
    "\n",
    "\n",
    "\n",
    "\n",
    "\n"
   ]
  },
  {
   "cell_type": "code",
   "execution_count": 10,
   "metadata": {},
   "outputs": [
    {
     "ename": "AssertionError",
     "evalue": "",
     "output_type": "error",
     "traceback": [
      "\u001b[0;31m---------------------------------------------------------------------------\u001b[0m",
      "\u001b[0;31mAssertionError\u001b[0m                            Traceback (most recent call last)",
      "\u001b[0;32m<ipython-input-10-a871fdc9ebee>\u001b[0m in \u001b[0;36m<module>\u001b[0;34m\u001b[0m\n\u001b[0;32m----> 1\u001b[0;31m \u001b[0;32massert\u001b[0m \u001b[0;32mFalse\u001b[0m\u001b[0;34m\u001b[0m\u001b[0;34m\u001b[0m\u001b[0m\n\u001b[0m",
      "\u001b[0;31mAssertionError\u001b[0m: "
     ]
    }
   ],
   "source": [
    "assert False"
   ]
  },
  {
   "cell_type": "markdown",
   "metadata": {},
   "source": [
    "# Write new collated file to disk"
   ]
  },
  {
   "cell_type": "code",
   "execution_count": null,
   "metadata": {},
   "outputs": [],
   "source": [
    "out_path = os.path.join(\n",
    "    root_dir,\n",
    "    file_to_process.split(\".\")[0] + \"_collated.tex\")\n",
    "with open(out_path, \"w\") as fle:\n",
    "    for line in composite_tex_lines_list:\n",
    "        fle.write(line + \"\\n\")"
   ]
  },
  {
   "cell_type": "raw",
   "metadata": {},
   "source": [
    "\n",
    "\n",
    "\n",
    "\n",
    "\n"
   ]
  },
  {
   "cell_type": "code",
   "execution_count": null,
   "metadata": {
    "jupyter": {
     "source_hidden": true
    }
   },
   "outputs": [],
   "source": [
    "#     if \"main\" in file_to_process:\n",
    "#         if \"% | - Supporting Information\" in line_i:\n",
    "#             in_SI_section = True\n",
    "#         if in_SI_section and \"% __|\" in line_i:\n",
    "#             # if \"% __|\" in line_i:\n",
    "#             in_SI_section = False\n",
    "\n",
    "\n",
    "#     if not in_SI_section:\n",
    "#         if \"\\input{\" in line_i and line_i[0] != \"%\":\n",
    "#             # #################################################\n",
    "#             file_to_drop_in_path = line_i.split(\"{\")[-1].split(\"}\")[0]\n",
    "#             file_to_drop_in_path = file_to_drop_in_path + \".tex\"\n",
    "#             file_to_drop_in_path = os.path.join(root_dir, file_to_drop_in_path)\n",
    "#             # file_to_drop_in_path = os.path.join(file_to_drop_in_path)\n",
    "\n",
    "#             file_lines_list_i = read_text_file(file_to_drop_in_path)\n",
    "\n",
    "#             for line_j in file_lines_list_i:\n",
    "#                 composite_tex_lines_list.append(line_j)\n",
    "\n",
    "#             tmp = line_i\n",
    "#         else:\n",
    "#             composite_tex_lines_list.append(line_i)"
   ]
  }
 ],
 "metadata": {
  "kernelspec": {
   "display_name": "Python [conda env:PROJ_IrOx_Active_Learning_OER]",
   "language": "python",
   "name": "conda-env-PROJ_IrOx_Active_Learning_OER-py"
  },
  "language_info": {
   "codemirror_mode": {
    "name": "ipython",
    "version": 3
   },
   "file_extension": ".py",
   "mimetype": "text/x-python",
   "name": "python",
   "nbconvert_exporter": "python",
   "pygments_lexer": "ipython3",
   "version": "3.6.9"
  }
 },
 "nbformat": 4,
 "nbformat_minor": 4
}
