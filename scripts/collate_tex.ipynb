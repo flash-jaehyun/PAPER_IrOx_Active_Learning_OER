{
 "cells": [
  {
   "cell_type": "markdown",
   "metadata": {},
   "source": [
    "# Import Modules"
   ]
  },
  {
   "cell_type": "code",
   "execution_count": 1,
   "metadata": {},
   "outputs": [
    {
     "name": "stdout",
     "output_type": "stream",
     "text": [
      "/mnt/f/Dropbox/01_norskov/00_git_repos/PAPER_IrOx_Active_Learning_OER/scripts\n"
     ]
    }
   ],
   "source": [
    "import os\n",
    "print(os.getcwd())\n",
    "import sys"
   ]
  },
  {
   "cell_type": "markdown",
   "metadata": {},
   "source": [
    "# Script Inputs"
   ]
  },
  {
   "cell_type": "code",
   "execution_count": 2,
   "metadata": {},
   "outputs": [],
   "source": [
    "# root_dir = \"./03_sections\"\n",
    "# root_dir = \"temp_paper_files\"\n",
    "\n",
    "root_dir = \".\"\n",
    "# root_dir = \"..\"\n",
    "\n",
    "# file_to_process = \"00_main_manuscript.tex\"\n",
    "\n",
    "file_to_process = sys.argv[1]"
   ]
  },
  {
   "cell_type": "markdown",
   "metadata": {},
   "source": [
    "# Methods"
   ]
  },
  {
   "cell_type": "code",
   "execution_count": 3,
   "metadata": {},
   "outputs": [],
   "source": [
    "def read_text_file(file_path):\n",
    "    with open(file_path, \"r\") as fle:\n",
    "        file_lines_list = fle.read().splitlines()\n",
    "\n",
    "    return(file_lines_list)"
   ]
  },
  {
   "cell_type": "markdown",
   "metadata": {},
   "source": [
    "# Collate all tex files into one"
   ]
  },
  {
   "cell_type": "code",
   "execution_count": 4,
   "metadata": {},
   "outputs": [],
   "source": [
    "main_manu_path = os.path.join(root_dir, file_to_process)\n",
    "# main_manu_path = os.path.join(file_to_process)\n",
    "main_manu_list = read_text_file(main_manu_path)\n",
    "\n",
    "# #########################################################\n",
    "in_SI_section = False\n",
    "\n",
    "composite_tex_lines_list = []\n",
    "for line_i in main_manu_list:\n",
    "\n",
    "    if \"main\" in file_to_process:\n",
    "        if \"% | - Supporting Information\" in line_i:\n",
    "            in_SI_section = True\n",
    "        if in_SI_section and \"% __|\" in line_i:\n",
    "            # if \"% __|\" in line_i:\n",
    "            in_SI_section = False\n",
    "\n",
    "\n",
    "    if not in_SI_section:\n",
    "        if \"\\input{\" in line_i and line_i[0] != \"%\":\n",
    "            # #################################################\n",
    "            file_to_drop_in_path = line_i.split(\"{\")[-1].split(\"}\")[0]\n",
    "            file_to_drop_in_path = file_to_drop_in_path + \".tex\"\n",
    "            file_to_drop_in_path = os.path.join(root_dir, file_to_drop_in_path)\n",
    "            # file_to_drop_in_path = os.path.join(file_to_drop_in_path)\n",
    "\n",
    "            file_lines_list_i = read_text_file(file_to_drop_in_path)\n",
    "\n",
    "            for line_j in file_lines_list_i:\n",
    "                composite_tex_lines_list.append(line_j)\n",
    "\n",
    "            tmp = line_i\n",
    "        else:\n",
    "            composite_tex_lines_list.append(line_i)"
   ]
  },
  {
   "cell_type": "markdown",
   "metadata": {},
   "source": [
    "# Write new collated file to disk"
   ]
  },
  {
   "cell_type": "code",
   "execution_count": 5,
   "metadata": {},
   "outputs": [],
   "source": [
    "out_path = os.path.join(\n",
    "    root_dir,\n",
    "    file_to_process.split(\".\")[0] + \"_collated.tex\")\n",
    "with open(out_path, \"w\") as fle:\n",
    "    for line in composite_tex_lines_list:\n",
    "        fle.write(line + \"\\n\")"
   ]
  }
 ],
 "metadata": {
  "jupytext": {
   "formats": "ipynb,py:light"
  },
  "kernelspec": {
   "display_name": "Python [conda env:PROJ_IrOx_Active_Learning_OER]",
   "language": "python",
   "name": "conda-env-PROJ_IrOx_Active_Learning_OER-py"
  },
  "language_info": {
   "codemirror_mode": {
    "name": "ipython",
    "version": 3
   },
   "file_extension": ".py",
   "mimetype": "text/x-python",
   "name": "python",
   "nbconvert_exporter": "python",
   "pygments_lexer": "ipython3",
   "version": "3.6.9"
  }
 },
 "nbformat": 4,
 "nbformat_minor": 4
}
