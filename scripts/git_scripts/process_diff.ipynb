{
 "cells": [
  {
   "cell_type": "markdown",
   "metadata": {},
   "source": [
    "# Import Modules"
   ]
  },
  {
   "cell_type": "code",
   "execution_count": 1,
   "metadata": {},
   "outputs": [
    {
     "name": "stdout",
     "output_type": "stream",
     "text": [
      "/mnt/f/Dropbox/01_norskov/00_git_repos/PAPER_IrOx_Active_Learning_OER/scripts/git_scripts\n"
     ]
    }
   ],
   "source": [
    "import os\n",
    "print(os.getcwd())\n",
    "import sys"
   ]
  },
  {
   "cell_type": "code",
   "execution_count": 2,
   "metadata": {},
   "outputs": [],
   "source": [
    "file_to_process = sys.argv[1]\n",
    "\n",
    "cwd = os.getcwd()\n",
    "if cwd.split(\"/\")[-1] == \"scripts\":\n",
    "    root_dir = \"../..\"\n",
    "\n",
    "if \".tex\" not in file_to_process:\n",
    "    file_to_process = \"../../diff.tex\"\n",
    "    \n",
    "if \"/\" in file_to_process:\n",
    "    root_dir = \"/\".join(file_to_process.split(\"/\")[0:-1])\n",
    "    file_to_process = file_to_process.split(\"/\")[-1]\n",
    "else:\n",
    "    root_dir = \".\""
   ]
  },
  {
   "cell_type": "code",
   "execution_count": 3,
   "metadata": {},
   "outputs": [],
   "source": [
    "def read_text_file(file_path):\n",
    "    with open(file_path, \"r\") as fle:\n",
    "        file_lines_list = fle.read().splitlines()\n",
    "\n",
    "    return(file_lines_list)"
   ]
  },
  {
   "cell_type": "code",
   "execution_count": 4,
   "metadata": {},
   "outputs": [],
   "source": [
    "lines_to_replace_dict = {\n",
    "\n",
    "    \"{02_figures/03_parity_plot/00_al_perf_plot__\\DIFdelbeginFL \\DIFdelFL{v1}\\DIFdelendFL \\DIFaddbeginFL \\DIFaddFL{v2}\\DIFaddendFL __1200dpi.png}}\": \"{02_figures/03_parity_plot/00_al_perf_plot__v2__1200dpi.png}}\",\n",
    "\n",
    "    \"{02_figures/05_bulk_pourbaix/00_master__bulk-pourbaix__\\DIFdelbeginFL \\DIFdelFL{v6}\\DIFdelendFL \\DIFaddbeginFL \\DIFaddFL{v7}\\DIFaddendFL __1200dpi.png}}\": \"{02_figures/05_bulk_pourbaix/00_master__bulk-pourbaix__v7__1200dpi.png}}\",\n",
    "\n",
    "    }"
   ]
  },
  {
   "cell_type": "code",
   "execution_count": 5,
   "metadata": {},
   "outputs": [],
   "source": [
    "diff_file_path = os.path.join(root_dir, file_to_process)\n",
    "diff_file_lines = read_text_file(diff_file_path)\n",
    "\n",
    "diff_file_lines_2 = []\n",
    "for line_i in diff_file_lines:\n",
    "    \n",
    "    if line_i in list(lines_to_replace_dict.keys()):\n",
    "        diff_file_lines_2.append(\n",
    "            lines_to_replace_dict.get(line_i, \"TEMP sijhfijdsw\")\n",
    "            )\n",
    "    else:\n",
    "        diff_file_lines_2.append(line_i)"
   ]
  },
  {
   "cell_type": "code",
   "execution_count": 6,
   "metadata": {},
   "outputs": [
    {
     "name": "stdout",
     "output_type": "stream",
     "text": [
      "Written file path: \n",
      " ../../diff_processed.tex\n"
     ]
    }
   ],
   "source": [
    "out_path = os.path.join(\n",
    "    root_dir,\n",
    "    file_to_process.split(\".\")[0] + \"_processed.tex\")\n",
    "\n",
    "print(\"Written file path:\", \"\\n\", out_path)\n",
    "with open(out_path, \"w\") as fle:\n",
    "    for line in diff_file_lines_2:\n",
    "        fle.write(line + \"\\n\")"
   ]
  }
 ],
 "metadata": {
  "jupytext": {
   "formats": "ipynb,py:light"
  },
  "kernelspec": {
   "display_name": "Python [conda env:PROJ_irox]",
   "language": "python",
   "name": "conda-env-PROJ_irox-py"
  },
  "language_info": {
   "codemirror_mode": {
    "name": "ipython",
    "version": 3
   },
   "file_extension": ".py",
   "mimetype": "text/x-python",
   "name": "python",
   "nbconvert_exporter": "python",
   "pygments_lexer": "ipython3",
   "version": "3.6.10"
  }
 },
 "nbformat": 4,
 "nbformat_minor": 4
}
